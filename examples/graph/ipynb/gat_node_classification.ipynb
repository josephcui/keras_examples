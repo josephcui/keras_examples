{
  "cells": [
    {
      "cell_type": "markdown",
      "metadata": {
        "id": "view-in-github",
        "colab_type": "text"
      },
      "source": [
        "<a href=\"https://colab.research.google.com/github/josephcui/keras_examples/blob/main/examples/graph/ipynb/gat_node_classification.ipynb\" target=\"_parent\"><img src=\"https://colab.research.google.com/assets/colab-badge.svg\" alt=\"Open In Colab\"/></a>"
      ]
    },
    {
      "cell_type": "markdown",
      "metadata": {
        "id": "Y_kd9ssxYMW8"
      },
      "source": [
        "# Graph attention network (GAT) for node classification\n",
        "\n",
        "**Author:** [akensert](https://github.com/akensert)<br>\n",
        "**Date created:** 2021/09/13<br>\n",
        "**Last modified:** 2021/12/26<br>\n",
        "**Description:** An implementation of a Graph Attention Network (GAT) for node classification."
      ]
    },
    {
      "cell_type": "markdown",
      "metadata": {
        "id": "GtIxQdRdYMXD"
      },
      "source": [
        "## Introduction\n",
        "\n",
        "[Graph neural networks](https://en.wikipedia.org/wiki/Graph_neural_network)\n",
        "is the prefered neural network architecture for processing data structured as\n",
        "graphs (for example, social networks or molecule structures), yielding\n",
        "better results than fully-connected networks or convolutional networks.\n",
        "\n",
        "In this tutorial, we will implement a specific graph neural network known as a\n",
        "[Graph Attention Network](https://arxiv.org/abs/1710.10903) (GAT) to predict labels of\n",
        "scientific papers based on what type of papers cite them (using the\n",
        "[Cora](https://linqs.soe.ucsc.edu/data) dataset).\n",
        "\n",
        "### References\n",
        "\n",
        "For more information on GAT, see the original paper\n",
        "[Graph Attention Networks](https://arxiv.org/abs/1710.10903) as well as\n",
        "[DGL's Graph Attention Networks](https://docs.dgl.ai/en/0.4.x/tutorials/models/1_gnn/9_gat.html)\n",
        "documentation."
      ]
    },
    {
      "cell_type": "markdown",
      "metadata": {
        "id": "TJBWvytAYMXF"
      },
      "source": [
        "### Import packages"
      ]
    },
    {
      "cell_type": "code",
      "execution_count": 5,
      "metadata": {
        "id": "WbXfZGIzYMXF"
      },
      "outputs": [],
      "source": [
        "import tensorflow as tf\n",
        "from tensorflow import keras\n",
        "from tensorflow.keras import layers\n",
        "import numpy as np\n",
        "import pandas as pd\n",
        "import os\n",
        "import warnings\n",
        "\n",
        "warnings.filterwarnings(\"ignore\")\n",
        "pd.set_option(\"display.max_columns\", 6)\n",
        "pd.set_option(\"display.max_rows\", 6)\n",
        "np.random.seed(2)"
      ]
    },
    {
      "cell_type": "markdown",
      "metadata": {
        "id": "xglwJnu4YMXH"
      },
      "source": [
        "## Obtain the dataset\n",
        "\n",
        "The preparation of the [Cora dataset](https://linqs.soe.ucsc.edu/data) follows that of the\n",
        "[Node classification with Graph Neural Networks](https://keras.io/examples/graph/gnn_citations/)\n",
        "tutorial. Refer to this tutorial for more details on the dataset and exploratory data analysis.\n",
        "In brief, the Cora dataset consists of two files: `cora.cites` which contains *directed links* (citations) between\n",
        "papers; and `cora.content` which contains *features* of the corresponding papers and one\n",
        "of seven labels (the *subject* of the paper)."
      ]
    },
    {
      "cell_type": "code",
      "execution_count": 6,
      "metadata": {
        "colab": {
          "base_uri": "https://localhost:8080/"
        },
        "id": "5EVcf2F9YMXI",
        "outputId": "e5e321dd-80b9-4c08-8c36-aed2e19566ed"
      },
      "outputs": [
        {
          "output_type": "stream",
          "name": "stdout",
          "text": [
            "      target  source\n",
            "0          0      21\n",
            "1          0     905\n",
            "2          0     906\n",
            "...      ...     ...\n",
            "5426    1874    2586\n",
            "5427    1876    1874\n",
            "5428    1897    2707\n",
            "\n",
            "[5429 rows x 2 columns]\n",
            "      paper_id  term_0  term_1  ...  term_1431  term_1432  subject\n",
            "0          462       0       0  ...          0          0        2\n",
            "1         1911       0       0  ...          0          0        5\n",
            "2         2002       0       0  ...          0          0        4\n",
            "...        ...     ...     ...  ...        ...        ...      ...\n",
            "2705      2372       0       0  ...          0          0        1\n",
            "2706       955       0       0  ...          0          0        0\n",
            "2707       376       0       0  ...          0          0        2\n",
            "\n",
            "[2708 rows x 1435 columns]\n"
          ]
        }
      ],
      "source": [
        "zip_file = keras.utils.get_file(\n",
        "    fname=\"cora.tgz\",\n",
        "    origin=\"https://linqs-data.soe.ucsc.edu/public/lbc/cora.tgz\",\n",
        "    extract=True,\n",
        ")\n",
        "\n",
        "data_dir = os.path.join(os.path.dirname(zip_file), \"cora\")\n",
        "\n",
        "citations = pd.read_csv(\n",
        "    os.path.join(data_dir, \"cora.cites\"),\n",
        "    sep=\"\\t\",\n",
        "    header=None,\n",
        "    names=[\"target\", \"source\"],\n",
        ")\n",
        "\n",
        "papers = pd.read_csv(\n",
        "    os.path.join(data_dir, \"cora.content\"),\n",
        "    sep=\"\\t\",\n",
        "    header=None,\n",
        "    names=[\"paper_id\"] + [f\"term_{idx}\" for idx in range(1433)] + [\"subject\"],\n",
        ")\n",
        "\n",
        "class_values = sorted(papers[\"subject\"].unique())\n",
        "class_idx = {name: id for id, name in enumerate(class_values)}\n",
        "paper_idx = {name: idx for idx, name in enumerate(sorted(papers[\"paper_id\"].unique()))}\n",
        "\n",
        "papers[\"paper_id\"] = papers[\"paper_id\"].apply(lambda name: paper_idx[name])\n",
        "citations[\"source\"] = citations[\"source\"].apply(lambda name: paper_idx[name])\n",
        "citations[\"target\"] = citations[\"target\"].apply(lambda name: paper_idx[name])\n",
        "papers[\"subject\"] = papers[\"subject\"].apply(lambda value: class_idx[value])\n",
        "\n",
        "print(citations)\n",
        "\n",
        "print(papers)"
      ]
    },
    {
      "cell_type": "markdown",
      "metadata": {
        "id": "3RdAJu4TYMXJ"
      },
      "source": [
        "### Split the dataset"
      ]
    },
    {
      "cell_type": "code",
      "execution_count": 7,
      "metadata": {
        "id": "Sq56IZ3pYMXK"
      },
      "outputs": [],
      "source": [
        "# Obtain random indices\n",
        "random_indices = np.random.permutation(range(papers.shape[0]))\n",
        "\n",
        "# 50/50 split\n",
        "train_data = papers.iloc[random_indices[: len(random_indices) // 2]]\n",
        "test_data = papers.iloc[random_indices[len(random_indices) // 2 :]]"
      ]
    },
    {
      "cell_type": "markdown",
      "metadata": {
        "id": "bU95RoTLYMXL"
      },
      "source": [
        "### Prepare the graph data"
      ]
    },
    {
      "cell_type": "code",
      "execution_count": 8,
      "metadata": {
        "colab": {
          "base_uri": "https://localhost:8080/"
        },
        "id": "lec70O9MYMXL",
        "outputId": "a3eb3ac6-3bf9-451c-feb1-b3dec712a259"
      },
      "outputs": [
        {
          "output_type": "stream",
          "name": "stdout",
          "text": [
            "Edges shape:\t\t (5429, 2)\n",
            "Node features shape: (2708, 1433)\n"
          ]
        }
      ],
      "source": [
        "# Obtain paper indices which will be used to gather node states\n",
        "# from the graph later on when training the model\n",
        "train_indices = train_data[\"paper_id\"].to_numpy()\n",
        "test_indices = test_data[\"paper_id\"].to_numpy()\n",
        "\n",
        "# Obtain ground truth labels corresponding to each paper_id\n",
        "train_labels = train_data[\"subject\"].to_numpy()\n",
        "test_labels = test_data[\"subject\"].to_numpy()\n",
        "\n",
        "# Define graph, namely an edge tensor and a node feature tensor\n",
        "edges = tf.convert_to_tensor(citations[[\"target\", \"source\"]])\n",
        "node_states = tf.convert_to_tensor(papers.sort_values(\"paper_id\").iloc[:, 1:-1])\n",
        "\n",
        "# Print shapes of the graph\n",
        "print(\"Edges shape:\\t\\t\", edges.shape)\n",
        "print(\"Node features shape:\", node_states.shape)"
      ]
    },
    {
      "cell_type": "code",
      "source": [
        "train_indices"
      ],
      "metadata": {
        "colab": {
          "base_uri": "https://localhost:8080/"
        },
        "id": "CEEtX_Q0bk3u",
        "outputId": "51661a18-339a-496a-ac9f-65a557844368"
      },
      "execution_count": 10,
      "outputs": [
        {
          "output_type": "execute_result",
          "data": {
            "text/plain": [
              "array([2226, 1578,  379, ...,  954, 1463, 1589])"
            ]
          },
          "metadata": {},
          "execution_count": 10
        }
      ]
    },
    {
      "cell_type": "code",
      "source": [
        "set(train_labels)"
      ],
      "metadata": {
        "colab": {
          "base_uri": "https://localhost:8080/"
        },
        "id": "zZxnHdB4bpnl",
        "outputId": "01ab52ec-3211-44ae-deab-ed27cefd536c"
      },
      "execution_count": 12,
      "outputs": [
        {
          "output_type": "execute_result",
          "data": {
            "text/plain": [
              "{0, 1, 2, 3, 4, 5, 6}"
            ]
          },
          "metadata": {},
          "execution_count": 12
        }
      ]
    },
    {
      "cell_type": "markdown",
      "metadata": {
        "id": "410yqURJYMXM"
      },
      "source": [
        "## Build the model\n",
        "\n",
        "GAT takes as input a graph (namely an edge tensor and a node feature tensor) and\n",
        "outputs \\[updated\\] node states. The node states are, for each target node, neighborhood\n",
        "aggregated information of *N*-hops (where *N* is decided by the number of layers of the\n",
        "GAT). Importantly, in contrast to the\n",
        "[graph convolutional network](https://arxiv.org/abs/1609.02907) (GCN)\n",
        "the GAT makes use of attention machanisms\n",
        "to aggregate information from neighboring nodes (or *source nodes*). In other words, instead of simply\n",
        "averaging/summing node states from source nodes (*source papers*) to the target node (*target papers*),\n",
        "GAT first applies normalized attention scores to each source node state and then sums."
      ]
    },
    {
      "cell_type": "markdown",
      "metadata": {
        "id": "dmZAul-JYMXM"
      },
      "source": [
        "### (Multi-head) graph attention layer\n",
        "\n",
        "The GAT model implements multi-head graph attention layers. The `MultiHeadGraphAttention`\n",
        "layer is simply a concatenation (or averaging) of multiple graph attention layers\n",
        "(`GraphAttention`), each with separate learnable weights `W`. The `GraphAttention` layer\n",
        "does the following:\n",
        "\n",
        "Consider inputs node states `h^{l}` which are linearly transformed by `W^{l}`, resulting in `z^{l}`.\n",
        "\n",
        "For each target node:\n",
        "\n",
        "1. Computes pair-wise attention scores `a^{l}^{T}(z^{l}_{i}||z^{l}_{j})` for all `j`,\n",
        "resulting in `e_{ij}` (for all `j`).\n",
        "`||` denotes a concatenation, `_{i}` corresponds to the target node, and `_{j}`\n",
        "corresponds to a given 1-hop neighbor/source node.\n",
        "2. Normalizes `e_{ij}` via softmax, so as the sum of incoming edges' attention scores\n",
        "to the target node (`sum_{k}{e_{norm}_{ik}}`) will add up to 1.\n",
        "3. Applies attention scores `e_{norm}_{ij}` to `z_{j}`\n",
        "and adds it to the new target node state `h^{l+1}_{i}`, for all `j`."
      ]
    },
    {
      "cell_type": "code",
      "source": [
        "edges[:,1]"
      ],
      "metadata": {
        "colab": {
          "base_uri": "https://localhost:8080/"
        },
        "id": "pdswDGzikGzg",
        "outputId": "c178468f-f71a-4be4-ddd8-ab59d294395a"
      },
      "execution_count": 17,
      "outputs": [
        {
          "output_type": "execute_result",
          "data": {
            "text/plain": [
              "<tf.Tensor: shape=(5429,), dtype=int64, numpy=array([  21,  905,  906, ..., 2586, 1874, 2707])>"
            ]
          },
          "metadata": {},
          "execution_count": 17
        }
      ]
    },
    {
      "cell_type": "code",
      "execution_count": 18,
      "metadata": {
        "id": "YrFk1bt9YMXN"
      },
      "outputs": [],
      "source": [
        "class GraphAttention(layers.Layer):\n",
        "    def __init__(\n",
        "        self,\n",
        "        units,\n",
        "        kernel_initializer=\"glorot_uniform\",\n",
        "        kernel_regularizer=None,\n",
        "        **kwargs,\n",
        "    ):\n",
        "        super().__init__(**kwargs)\n",
        "        self.units = units\n",
        "        self.kernel_initializer = keras.initializers.get(kernel_initializer)\n",
        "        self.kernel_regularizer = keras.regularizers.get(kernel_regularizer)\n",
        "\n",
        "    def build(self, input_shape):\n",
        "\n",
        "        self.kernel = self.add_weight(  # 1433,units\n",
        "            shape=(input_shape[0][-1], self.units),\n",
        "            trainable=True,\n",
        "            initializer=self.kernel_initializer,\n",
        "            regularizer=self.kernel_regularizer,\n",
        "            name=\"kernel\",\n",
        "        )\n",
        "        self.kernel_attention = self.add_weight( # units*2, 1\n",
        "            shape=(self.units * 2, 1),\n",
        "            trainable=True,\n",
        "            initializer=self.kernel_initializer,\n",
        "            regularizer=self.kernel_regularizer,\n",
        "            name=\"kernel_attention\",\n",
        "        )\n",
        "        self.built = True\n",
        "\n",
        "    def call(self, inputs):\n",
        "        # node_states: 2708*1433\n",
        "        # edges: 5429 * 2\n",
        "        node_states, edges = inputs\n",
        "\n",
        "        # Linearly transform node states\n",
        "        node_states_transformed = tf.matmul(node_states, self.kernel) # 2708*units，先降维\n",
        "\n",
        "        # (1) Compute pair-wise attention scores\n",
        "        node_states_expanded = tf.gather(node_states_transformed, edges) # 5429*2 * units\n",
        "        node_states_expanded = tf.reshape(  # 5429 * (2*units)\n",
        "            node_states_expanded, (tf.shape(edges)[0], -1)\n",
        "        )\n",
        "        attention_scores = tf.nn.leaky_relu(\n",
        "            tf.matmul(node_states_expanded, self.kernel_attention) # 5429 * 1\n",
        "        )\n",
        "        attention_scores = tf.squeeze(attention_scores, -1) # 5429\n",
        "\n",
        "        # (2) Normalize attention scores\n",
        "        attention_scores = tf.math.exp(tf.clip_by_value(attention_scores, -2, 2)) # 截断，数值都位于-2和2之间\n",
        "        attention_scores_sum = tf.math.unsorted_segment_sum(\n",
        "            data=attention_scores,\n",
        "            segment_ids=edges[:, 0], # edges的第0列\n",
        "            num_segments=tf.reduce_max(edges[:, 0]) + 1,  # 1898，节点数量\n",
        "        )\n",
        "        attention_scores_sum = tf.repeat(\n",
        "            attention_scores_sum, tf.math.bincount(tf.cast(edges[:, 0], \"int32\"))\n",
        "        )\n",
        "        attention_scores_norm = attention_scores / attention_scores_sum # 5429\n",
        "\n",
        "        # (3) Gather node states of neighbors, apply attention scores and aggregate\n",
        "        node_states_neighbors = tf.gather(node_states_transformed, edges[:, 1]) # 5429 * units\n",
        "        out = tf.math.unsorted_segment_sum(\n",
        "            data=node_states_neighbors * attention_scores_norm[:, tf.newaxis],  # att: 5429 * 1\n",
        "            segment_ids=edges[:, 0],\n",
        "            num_segments=tf.shape(node_states)[0],\n",
        "        )\n",
        "        return out # 1898 * units\n",
        "\n",
        "\n",
        "class MultiHeadGraphAttention(layers.Layer):\n",
        "    def __init__(self, units, num_heads=8, merge_type=\"concat\", **kwargs):\n",
        "        super().__init__(**kwargs)\n",
        "        self.num_heads = num_heads\n",
        "        self.merge_type = merge_type\n",
        "        self.attention_layers = [GraphAttention(units) for _ in range(num_heads)]\n",
        "\n",
        "    def call(self, inputs):\n",
        "        atom_features, pair_indices = inputs\n",
        "\n",
        "        # Obtain outputs from each attention head\n",
        "        outputs = [  # num_heads * 1898 * units\n",
        "            attention_layer([atom_features, pair_indices])\n",
        "            for attention_layer in self.attention_layers\n",
        "        ]\n",
        "        # Concatenate or average the node states from each head\n",
        "        if self.merge_type == \"concat\":\n",
        "            outputs = tf.concat(outputs, axis=-1) # 1898 * (num_heads*units)\n",
        "        else:\n",
        "            outputs = tf.reduce_mean(tf.stack(outputs, axis=-1), axis=-1) # stack: 1898*units*num_heads\n",
        "            # reduce_mean: 1898*units\n",
        "        # Activate and return node states\n",
        "        return tf.nn.relu(outputs)\n"
      ]
    },
    {
      "cell_type": "markdown",
      "metadata": {
        "id": "9bWU8_MPYMXN"
      },
      "source": [
        "### Implement training logic with custom `train_step`, `test_step`, and `predict_step` methods\n",
        "\n",
        "Notice, the GAT model operates on the entire graph (namely, `node_states` and\n",
        "`edges`) in all phases (training, validation and testing). Hence, `node_states` and\n",
        "`edges` are passed to the constructor of the `keras.Model` and used as attributes.\n",
        "The difference between the phases are the indices (and labels), which gathers\n",
        "certain outputs (`tf.gather(outputs, indices)`)."
      ]
    },
    {
      "cell_type": "code",
      "execution_count": 20,
      "metadata": {
        "id": "cVLF3W2mYMXO"
      },
      "outputs": [],
      "source": [
        "\n",
        "class GraphAttentionNetwork(keras.Model):\n",
        "    def __init__(\n",
        "        self,\n",
        "        node_states,\n",
        "        edges,\n",
        "        hidden_units,\n",
        "        num_heads,\n",
        "        num_layers,\n",
        "        output_dim,\n",
        "        **kwargs,\n",
        "    ):\n",
        "        super().__init__(**kwargs)\n",
        "        self.node_states = node_states\n",
        "        self.edges = edges\n",
        "        self.preprocess = layers.Dense(hidden_units * num_heads, activation=\"relu\")\n",
        "        self.attention_layers = [\n",
        "            MultiHeadGraphAttention(hidden_units, num_heads) for _ in range(num_layers)\n",
        "        ]\n",
        "        self.output_layer = layers.Dense(output_dim)\n",
        "\n",
        "    def call(self, inputs):\n",
        "        node_states, edges = inputs\n",
        "        x = self.preprocess(node_states)\n",
        "        for attention_layer in self.attention_layers:\n",
        "            x = attention_layer([x, edges]) + x\n",
        "        outputs = self.output_layer(x)\n",
        "        return outputs\n",
        "\n",
        "    def train_step(self, data):\n",
        "        indices, labels = data\n",
        "\n",
        "        with tf.GradientTape() as tape:\n",
        "            # Forward pass\n",
        "            outputs = self([self.node_states, self.edges])\n",
        "            # Compute loss\n",
        "            loss = self.compiled_loss(labels, tf.gather(outputs, indices))\n",
        "        # Compute gradients\n",
        "        grads = tape.gradient(loss, self.trainable_weights)\n",
        "        # Apply gradients (update weights)\n",
        "        optimizer.apply_gradients(zip(grads, self.trainable_weights))\n",
        "        # Update metric(s)\n",
        "        self.compiled_metrics.update_state(labels, tf.gather(outputs, indices))\n",
        "\n",
        "        return {m.name: m.result() for m in self.metrics}\n",
        "\n",
        "    def predict_step(self, data):\n",
        "        indices = data\n",
        "        # Forward pass\n",
        "        outputs = self([self.node_states, self.edges])\n",
        "        # Compute probabilities\n",
        "        return tf.nn.softmax(tf.gather(outputs, indices))\n",
        "\n",
        "    def test_step(self, data):\n",
        "        indices, labels = data\n",
        "        # Forward pass\n",
        "        outputs = self([self.node_states, self.edges])\n",
        "        # Compute loss\n",
        "        loss = self.compiled_loss(labels, tf.gather(outputs, indices))\n",
        "        # Update metric(s)\n",
        "        self.compiled_metrics.update_state(labels, tf.gather(outputs, indices))\n",
        "\n",
        "        return {m.name: m.result() for m in self.metrics}\n"
      ]
    },
    {
      "cell_type": "markdown",
      "metadata": {
        "id": "BIpOZpVsYMXO"
      },
      "source": [
        "### Train and evaluate"
      ]
    },
    {
      "cell_type": "code",
      "execution_count": 21,
      "metadata": {
        "colab": {
          "base_uri": "https://localhost:8080/"
        },
        "id": "tsZdZzPIYMXP",
        "outputId": "a2d7dbf6-8fd1-4a8d-e046-ac7295e23500"
      },
      "outputs": [
        {
          "output_type": "stream",
          "name": "stdout",
          "text": [
            "Epoch 1/100\n",
            "5/5 - 23s - loss: 1.8847 - acc: 0.2422 - val_loss: 1.8416 - val_acc: 0.4118 - 23s/epoch - 5s/step\n",
            "Epoch 2/100\n",
            "5/5 - 6s - loss: 1.3501 - acc: 0.5493 - val_loss: 1.1038 - val_acc: 0.6544 - 6s/epoch - 1s/step\n",
            "Epoch 3/100\n",
            "5/5 - 6s - loss: 0.7831 - acc: 0.7923 - val_loss: 0.9476 - val_acc: 0.7500 - 6s/epoch - 1s/step\n",
            "Epoch 4/100\n",
            "5/5 - 6s - loss: 0.4762 - acc: 0.8571 - val_loss: 0.7550 - val_acc: 0.8162 - 6s/epoch - 1s/step\n",
            "Epoch 5/100\n",
            "5/5 - 6s - loss: 0.3107 - acc: 0.9163 - val_loss: 0.9243 - val_acc: 0.7574 - 6s/epoch - 1s/step\n",
            "Epoch 6/100\n",
            "5/5 - 6s - loss: 0.1814 - acc: 0.9557 - val_loss: 0.7308 - val_acc: 0.8015 - 6s/epoch - 1s/step\n",
            "Epoch 7/100\n",
            "5/5 - 6s - loss: 0.1100 - acc: 0.9787 - val_loss: 0.6468 - val_acc: 0.8456 - 6s/epoch - 1s/step\n",
            "Epoch 8/100\n",
            "5/5 - 6s - loss: 0.0701 - acc: 0.9934 - val_loss: 0.6716 - val_acc: 0.8235 - 6s/epoch - 1s/step\n",
            "Epoch 9/100\n",
            "5/5 - 6s - loss: 0.0440 - acc: 0.9951 - val_loss: 0.7540 - val_acc: 0.8162 - 6s/epoch - 1s/step\n",
            "Epoch 10/100\n",
            "5/5 - 6s - loss: 0.0325 - acc: 0.9975 - val_loss: 0.7672 - val_acc: 0.8162 - 6s/epoch - 1s/step\n",
            "Epoch 11/100\n",
            "5/5 - 6s - loss: 0.0234 - acc: 0.9992 - val_loss: 0.7514 - val_acc: 0.8162 - 6s/epoch - 1s/step\n",
            "Epoch 12/100\n",
            "5/5 - 6s - loss: 0.0184 - acc: 0.9992 - val_loss: 0.7618 - val_acc: 0.8382 - 6s/epoch - 1s/step\n",
            "----------------------------------------------------------------------------\n",
            "Test Accuracy 78.3%\n"
          ]
        }
      ],
      "source": [
        "# Define hyper-parameters\n",
        "HIDDEN_UNITS = 100\n",
        "NUM_HEADS = 8\n",
        "NUM_LAYERS = 3\n",
        "OUTPUT_DIM = len(class_values)\n",
        "\n",
        "NUM_EPOCHS = 100\n",
        "BATCH_SIZE = 256\n",
        "VALIDATION_SPLIT = 0.1\n",
        "LEARNING_RATE = 3e-1\n",
        "MOMENTUM = 0.9\n",
        "\n",
        "loss_fn = keras.losses.SparseCategoricalCrossentropy(from_logits=True)\n",
        "optimizer = keras.optimizers.SGD(LEARNING_RATE, momentum=MOMENTUM)\n",
        "accuracy_fn = keras.metrics.SparseCategoricalAccuracy(name=\"acc\")\n",
        "early_stopping = keras.callbacks.EarlyStopping(\n",
        "    monitor=\"val_acc\", min_delta=1e-5, patience=5, restore_best_weights=True\n",
        ")\n",
        "\n",
        "# Build model\n",
        "gat_model = GraphAttentionNetwork(\n",
        "    node_states, edges, HIDDEN_UNITS, NUM_HEADS, NUM_LAYERS, OUTPUT_DIM\n",
        ")\n",
        "\n",
        "# Compile model\n",
        "gat_model.compile(loss=loss_fn, optimizer=optimizer, metrics=[accuracy_fn])\n",
        "\n",
        "gat_model.fit(\n",
        "    x=train_indices,\n",
        "    y=train_labels,\n",
        "    validation_split=VALIDATION_SPLIT,\n",
        "    batch_size=BATCH_SIZE,\n",
        "    epochs=NUM_EPOCHS,\n",
        "    callbacks=[early_stopping],\n",
        "    verbose=2,\n",
        ")\n",
        "\n",
        "_, test_accuracy = gat_model.evaluate(x=test_indices, y=test_labels, verbose=0)\n",
        "\n",
        "print(\"--\" * 38 + f\"\\nTest Accuracy {test_accuracy*100:.1f}%\")"
      ]
    },
    {
      "cell_type": "markdown",
      "metadata": {
        "id": "PmwoAsKwYMXP"
      },
      "source": [
        "### Predict (probabilities)"
      ]
    },
    {
      "cell_type": "code",
      "execution_count": 22,
      "metadata": {
        "colab": {
          "base_uri": "https://localhost:8080/"
        },
        "id": "PsQXm43XYMXP",
        "outputId": "37cd8a27-ec66-4e16-ecd6-d8f2eed9db06"
      },
      "outputs": [
        {
          "output_type": "stream",
          "name": "stdout",
          "text": [
            "Example 1: Probabilistic_Methods\n",
            "\tProbability of Case_Based               =   1.917%\n",
            "\tProbability of Genetic_Algorithms       =   0.110%\n",
            "\tProbability of Neural_Networks          =  11.646%\n",
            "\tProbability of Probabilistic_Methods    =  83.302%\n",
            "\tProbability of Reinforcement_Learning   =   0.384%\n",
            "\tProbability of Rule_Learning            =   0.128%\n",
            "\tProbability of Theory                   =   2.513%\n",
            "------------------------------------------------------------\n",
            "Example 2: Genetic_Algorithms\n",
            "\tProbability of Case_Based               =   0.039%\n",
            "\tProbability of Genetic_Algorithms       =  99.947%\n",
            "\tProbability of Neural_Networks          =   0.001%\n",
            "\tProbability of Probabilistic_Methods    =   0.000%\n",
            "\tProbability of Reinforcement_Learning   =   0.001%\n",
            "\tProbability of Rule_Learning            =   0.011%\n",
            "\tProbability of Theory                   =   0.002%\n",
            "------------------------------------------------------------\n",
            "Example 3: Theory\n",
            "\tProbability of Case_Based               =  10.947%\n",
            "\tProbability of Genetic_Algorithms       =   0.400%\n",
            "\tProbability of Neural_Networks          =   0.085%\n",
            "\tProbability of Probabilistic_Methods    =  23.004%\n",
            "\tProbability of Reinforcement_Learning   =   0.456%\n",
            "\tProbability of Rule_Learning            =  11.462%\n",
            "\tProbability of Theory                   =  53.645%\n",
            "------------------------------------------------------------\n",
            "Example 4: Neural_Networks\n",
            "\tProbability of Case_Based               =   0.039%\n",
            "\tProbability of Genetic_Algorithms       =   0.010%\n",
            "\tProbability of Neural_Networks          =  99.664%\n",
            "\tProbability of Probabilistic_Methods    =   0.184%\n",
            "\tProbability of Reinforcement_Learning   =   0.002%\n",
            "\tProbability of Rule_Learning            =   0.025%\n",
            "\tProbability of Theory                   =   0.076%\n",
            "------------------------------------------------------------\n",
            "Example 5: Theory\n",
            "\tProbability of Case_Based               =  18.661%\n",
            "\tProbability of Genetic_Algorithms       =   2.006%\n",
            "\tProbability of Neural_Networks          =   4.793%\n",
            "\tProbability of Probabilistic_Methods    =  13.736%\n",
            "\tProbability of Reinforcement_Learning   =   0.815%\n",
            "\tProbability of Rule_Learning            =  32.332%\n",
            "\tProbability of Theory                   =  27.657%\n",
            "------------------------------------------------------------\n",
            "Example 6: Genetic_Algorithms\n",
            "\tProbability of Case_Based               =   0.000%\n",
            "\tProbability of Genetic_Algorithms       = 100.000%\n",
            "\tProbability of Neural_Networks          =   0.000%\n",
            "\tProbability of Probabilistic_Methods    =   0.000%\n",
            "\tProbability of Reinforcement_Learning   =   0.000%\n",
            "\tProbability of Rule_Learning            =   0.000%\n",
            "\tProbability of Theory                   =   0.000%\n",
            "------------------------------------------------------------\n",
            "Example 7: Neural_Networks\n",
            "\tProbability of Case_Based               =   0.517%\n",
            "\tProbability of Genetic_Algorithms       =   0.205%\n",
            "\tProbability of Neural_Networks          =  97.572%\n",
            "\tProbability of Probabilistic_Methods    =   0.780%\n",
            "\tProbability of Reinforcement_Learning   =   0.007%\n",
            "\tProbability of Rule_Learning            =   0.304%\n",
            "\tProbability of Theory                   =   0.616%\n",
            "------------------------------------------------------------\n",
            "Example 8: Genetic_Algorithms\n",
            "\tProbability of Case_Based               =   0.000%\n",
            "\tProbability of Genetic_Algorithms       = 100.000%\n",
            "\tProbability of Neural_Networks          =   0.000%\n",
            "\tProbability of Probabilistic_Methods    =   0.000%\n",
            "\tProbability of Reinforcement_Learning   =   0.000%\n",
            "\tProbability of Rule_Learning            =   0.000%\n",
            "\tProbability of Theory                   =   0.000%\n",
            "------------------------------------------------------------\n",
            "Example 9: Theory\n",
            "\tProbability of Case_Based               =   7.334%\n",
            "\tProbability of Genetic_Algorithms       =   4.947%\n",
            "\tProbability of Neural_Networks          =  15.860%\n",
            "\tProbability of Probabilistic_Methods    =  43.508%\n",
            "\tProbability of Reinforcement_Learning   =   4.685%\n",
            "\tProbability of Rule_Learning            =   6.101%\n",
            "\tProbability of Theory                   =  17.563%\n",
            "------------------------------------------------------------\n",
            "Example 10: Case_Based\n",
            "\tProbability of Case_Based               =  99.547%\n",
            "\tProbability of Genetic_Algorithms       =   0.005%\n",
            "\tProbability of Neural_Networks          =   0.009%\n",
            "\tProbability of Probabilistic_Methods    =   0.124%\n",
            "\tProbability of Reinforcement_Learning   =   0.003%\n",
            "\tProbability of Rule_Learning            =   0.279%\n",
            "\tProbability of Theory                   =   0.033%\n",
            "------------------------------------------------------------\n"
          ]
        }
      ],
      "source": [
        "test_probs = gat_model.predict(x=test_indices)\n",
        "\n",
        "mapping = {v: k for (k, v) in class_idx.items()}\n",
        "\n",
        "for i, (probs, label) in enumerate(zip(test_probs[:10], test_labels[:10])):\n",
        "    print(f\"Example {i+1}: {mapping[label]}\")\n",
        "    for j, c in zip(probs, class_idx.keys()):\n",
        "        print(f\"\\tProbability of {c: <24} = {j*100:7.3f}%\")\n",
        "    print(\"---\" * 20)"
      ]
    },
    {
      "cell_type": "markdown",
      "metadata": {
        "id": "iuGzmyB5YMXQ"
      },
      "source": [
        "## Conclusions\n",
        "\n",
        "The results look OK! The GAT model seems to correctly predict the subjects of the papers,\n",
        "based on what they cite, about 80% of the time. Further improvements could be\n",
        "made by fine-tuning the hyper-parameters of the GAT. For instance, try changing the number of layers,\n",
        "the number of hidden units, or the optimizer/learning rate; add regularization (e.g., dropout);\n",
        "or modify the preprocessing step. We could also try to implement *self-loops*\n",
        "(i.e., paper X cites paper X) and/or make the graph *undirected*."
      ]
    }
  ],
  "metadata": {
    "colab": {
      "collapsed_sections": [],
      "name": "gat_node_classification",
      "provenance": [],
      "toc_visible": true,
      "include_colab_link": true
    },
    "kernelspec": {
      "display_name": "Python 3",
      "language": "python",
      "name": "python3"
    },
    "language_info": {
      "codemirror_mode": {
        "name": "ipython",
        "version": 3
      },
      "file_extension": ".py",
      "mimetype": "text/x-python",
      "name": "python",
      "nbconvert_exporter": "python",
      "pygments_lexer": "ipython3",
      "version": "3.7.0"
    }
  },
  "nbformat": 4,
  "nbformat_minor": 0
}